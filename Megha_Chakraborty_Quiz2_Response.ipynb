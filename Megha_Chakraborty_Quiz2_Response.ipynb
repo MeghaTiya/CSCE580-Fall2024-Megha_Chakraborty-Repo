{
  "nbformat": 4,
  "nbformat_minor": 0,
  "metadata": {
    "colab": {
      "provenance": [],
      "authorship_tag": "ABX9TyO66qHKIoN8C6ykT1bpgC/K",
      "include_colab_link": true
    },
    "kernelspec": {
      "name": "python3",
      "display_name": "Python 3"
    },
    "language_info": {
      "name": "python"
    }
  },
  "cells": [
    {
      "cell_type": "markdown",
      "metadata": {
        "id": "view-in-github",
        "colab_type": "text"
      },
      "source": [
        "<a href=\"https://colab.research.google.com/github/MeghaTiya/CSCE580-Fall2024-Megha_Chakraborty-Repo/blob/main/Megha_Chakraborty_Quiz2_Response.ipynb\" target=\"_parent\"><img src=\"https://colab.research.google.com/assets/colab-badge.svg\" alt=\"Open In Colab\"/></a>"
      ]
    },
    {
      "cell_type": "code",
      "execution_count": null,
      "metadata": {
        "id": "s8bHoIWH5ta7",
        "outputId": "230d9a5f-5c7c-43f6-ce12-99bcc006f7af",
        "colab": {
          "base_uri": "https://localhost:8080/"
        }
      },
      "outputs": [
        {
          "output_type": "stream",
          "name": "stdout",
          "text": [
            "Solution Path: [(3, 3, 1), (2, 2, 0), (3, 2, 1), (3, 0, 0), (3, 1, 1), (1, 1, 0), (2, 2, 1), (0, 2, 0), (0, 3, 1), (0, 1, 0), (1, 1, 1), (0, 0, 0)]\n",
            "Total crossings: 11\n"
          ]
        }
      ],
      "source": [
        "#BFS Code Implementation:\n",
        "\n",
        "from collections import deque\n",
        "\n",
        "# Define the initial state\n",
        "start_state = (3, 3, 1)  # (missionaries, cannibals, boat)\n",
        "\n",
        "# Define the goal state\n",
        "goal_state = (0, 0, 0)\n",
        "\n",
        "# Function to check if a state is valid\n",
        "def is_valid(state):\n",
        "    missionaries, cannibals, boat = state\n",
        "    # Ensure that no missionaries are outnumbered by cannibals on either side of the river\n",
        "    if missionaries < 0 or missionaries > 3 or cannibals < 0 or cannibals > 3:\n",
        "        return False\n",
        "    if (missionaries > 0 and missionaries < cannibals):  # Left side constraint\n",
        "        return False\n",
        "    if (3 - missionaries > 0 and 3 - missionaries < 3 - cannibals):  # Right side constraint\n",
        "        return False\n",
        "    return True\n",
        "\n",
        "# Function to generate successor states\n",
        "def successors(state):\n",
        "    successors_list = []\n",
        "    missionaries, cannibals, boat = state\n",
        "    if boat == 1:  # Boat is on the starting side\n",
        "        moves = [(1, 0), (0, 1), (1, 1), (2, 0), (0, 2)]\n",
        "        for m, c in moves:\n",
        "            new_state = (missionaries - m, cannibals - c, 0)\n",
        "            if is_valid(new_state):\n",
        "                successors_list.append(new_state)\n",
        "    else:  # Boat is on the goal side\n",
        "        moves = [(1, 0), (0, 1), (1, 1), (2, 0), (0, 2)]\n",
        "        for m, c in moves:\n",
        "            new_state = (missionaries + m, cannibals + c, 1)\n",
        "            if is_valid(new_state):\n",
        "                successors_list.append(new_state)\n",
        "    return successors_list\n",
        "\n",
        "# BFS algorithm\n",
        "def bfs(start_state, goal_state):\n",
        "    queue = deque([(start_state, [])])  # Store state and the path taken\n",
        "    visited = set([start_state])\n",
        "\n",
        "    while queue:\n",
        "        state, path = queue.popleft()\n",
        "\n",
        "        if state == goal_state:\n",
        "            return path + [goal_state]\n",
        "\n",
        "        for next_state in successors(state):\n",
        "            if next_state not in visited:\n",
        "                visited.add(next_state)\n",
        "                queue.append((next_state, path + [state]))\n",
        "\n",
        "    return None\n",
        "\n",
        "# Solve using BFS\n",
        "solution = bfs(start_state, goal_state)\n",
        "\n",
        "# Output solution\n",
        "print(\"Solution Path:\", solution)\n",
        "print(\"Total crossings:\", len(solution) - 1)\n"
      ]
    },
    {
      "cell_type": "code",
      "source": [
        "#A* Code Implementation:\n",
        "\n",
        "import heapq\n",
        "\n",
        "# Define the initial state (missionaries, cannibals, boat)\n",
        "start_state = (3, 3, 1)  # (3 missionaries, 3 cannibals, boat on the starting side)\n",
        "\n",
        "# Define the goal state (missionaries, cannibals, boat)\n",
        "goal_state = (0, 0, 0)  # Goal is to have no missionaries or cannibals on the starting side\n",
        "\n",
        "# Function to check if a state is valid\n",
        "def is_valid(state):\n",
        "    missionaries, cannibals, boat = state\n",
        "    # Ensure that no missionaries are outnumbered by cannibals on either side of the river\n",
        "    if missionaries < 0 or missionaries > 3 or cannibals < 0 or cannibals > 3:\n",
        "        return False\n",
        "    if (missionaries > 0 and missionaries < cannibals):  # Left side constraint\n",
        "        return False\n",
        "    if (3 - missionaries > 0 and 3 - missionaries < 3 - cannibals):  # Right side constraint\n",
        "        return False\n",
        "    return True\n",
        "\n",
        "# Function to generate successor states\n",
        "def successors(state):\n",
        "    successors_list = []\n",
        "    missionaries, cannibals, boat = state\n",
        "    if boat == 1:  # Boat is on the starting side\n",
        "        moves = [(1, 0), (0, 1), (1, 1), (2, 0), (0, 2)]\n",
        "        for m, c in moves:\n",
        "            new_state = (missionaries - m, cannibals - c, 0)\n",
        "            if is_valid(new_state):\n",
        "                successors_list.append(new_state)\n",
        "    else:  # Boat is on the goal side\n",
        "        moves = [(1, 0), (0, 1), (1, 1), (2, 0), (0, 2)]\n",
        "        for m, c in moves:\n",
        "            new_state = (missionaries + m, cannibals + c, 1)\n",
        "            if is_valid(new_state):\n",
        "                successors_list.append(new_state)\n",
        "    return successors_list\n",
        "\n",
        "# Define the heuristic function\n",
        "def heuristic(state):\n",
        "    missionaries, cannibals, boat = state\n",
        "    return (missionaries + cannibals) // 2  # Admissible heuristic\n",
        "\n",
        "# A* algorithm\n",
        "def a_star(start_state, goal_state):\n",
        "    priority_queue = []\n",
        "    heapq.heappush(priority_queue, (0 + heuristic(start_state), 0, start_state, []))\n",
        "    visited = set([start_state])\n",
        "\n",
        "    while priority_queue:\n",
        "        _, cost, state, path = heapq.heappop(priority_queue)\n",
        "\n",
        "        if state == goal_state:\n",
        "            return path + [goal_state]\n",
        "\n",
        "        for next_state in successors(state):\n",
        "            if next_state not in visited:\n",
        "                visited.add(next_state)\n",
        "                total_cost = cost + 1\n",
        "                heapq.heappush(priority_queue, (total_cost + heuristic(next_state), total_cost, next_state, path + [state]))\n",
        "\n",
        "    return None\n",
        "\n",
        "# Solve using A*\n",
        "solution = a_star(start_state, goal_state)\n",
        "\n",
        "# Output solution\n",
        "print(\"Solution Path:\", solution)\n",
        "print(\"Total crossings:\", len(solution) - 1)\n"
      ],
      "metadata": {
        "colab": {
          "base_uri": "https://localhost:8080/"
        },
        "id": "APstlXRTGGky",
        "outputId": "bf85c17f-f582-46ca-cfb6-0cec3da8e9d2"
      },
      "execution_count": null,
      "outputs": [
        {
          "output_type": "stream",
          "name": "stdout",
          "text": [
            "Solution Path: [(3, 3, 1), (2, 2, 0), (3, 2, 1), (3, 0, 0), (3, 1, 1), (1, 1, 0), (2, 2, 1), (0, 2, 0), (0, 3, 1), (0, 1, 0), (0, 2, 1), (0, 0, 0)]\n",
            "Total crossings: 11\n"
          ]
        }
      ]
    }
  ]
}